{
 "cells": [
  {
   "cell_type": "code",
   "execution_count": null,
   "metadata": {},
   "outputs": [
    {
     "name": "stdout",
     "output_type": "stream",
     "text": [
      "Error sending email: [Errno 99] Cannot assign requested address\n"
     ]
    }
   ],
   "source": [
    "# Define your Azure PostgreSQL connection details\n",
    "    USERNAME = \"testtech\"\n",
    "    PASSWORD = \"Your_password\"\n",
    "    HOST = \"testtech.postgres.database.azure.com\"\n",
    "    PORT = \"5432\"  # Default PostgreSQL port\n",
    "    DATABASE = \"postgres\"\n",
    "\n",
    "    # Create the database connection URL\n",
    "    DATABASE_URL = f\"postgresql://{USERNAME}:{PASSWORD}@{HOST}:{PORT}/{DATABASE}\"\n",
    "\n",
    "    # Create an SQLAlchemy engine\n",
    "    engine = create_engine(DATABASE_URL)\n",
    "\n",
    "\n",
    "\n",
    "    # Push DataFrame to Azure PostgreSQL\n",
    "    df.to_sql(\"player_table\", engine, if_exists=\"append\", index=False)\n",
    "\n",
    "    print(\"Data pushed successfully!\")"
   ]
  },
  {
   "cell_type": "code",
   "execution_count": null,
   "metadata": {},
   "outputs": [],
   "source": [
    "from get_data import get_article_data\n",
    "\n",
    "df = get_article_data()\n",
    "df"
   ]
  }
 ],
 "metadata": {
  "kernelspec": {
   "display_name": "Python 3",
   "language": "python",
   "name": "python3"
  },
  "language_info": {
   "codemirror_mode": {
    "name": "ipython",
    "version": 3
   },
   "file_extension": ".py",
   "mimetype": "text/x-python",
   "name": "python",
   "nbconvert_exporter": "python",
   "pygments_lexer": "ipython3",
   "version": "3.12.9"
  }
 },
 "nbformat": 4,
 "nbformat_minor": 2
}
